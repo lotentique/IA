{
 "cells": [
  {
   "cell_type": "markdown",
   "id": "36692feb",
   "metadata": {},
   "source": [
    "## exo1\n",
    "* tous les nombres divisibles par 7 mais non multiples de 5, entre 2000 et 3200*"
   ]
  },
  {
   "cell_type": "code",
   "execution_count": 1,
   "id": "130eb1c4",
   "metadata": {},
   "outputs": [
    {
     "name": "stdout",
     "output_type": "stream",
     "text": [
      "[2002, 2009, 2016, 2023, 2037, 2044, 2051, 2058, 2072, 2079, 2086, 2093, 2107, 2114, 2121, 2128, 2142, 2149, 2156, 2163, 2177, 2184, 2191, 2198, 2212, 2219, 2226, 2233, 2247, 2254, 2261, 2268, 2282, 2289, 2296, 2303, 2317, 2324, 2331, 2338, 2352, 2359, 2366, 2373, 2387, 2394, 2401, 2408, 2422, 2429, 2436, 2443, 2457, 2464, 2471, 2478, 2492, 2499, 2506, 2513, 2527, 2534, 2541, 2548, 2562, 2569, 2576, 2583, 2597, 2604, 2611, 2618, 2632, 2639, 2646, 2653, 2667, 2674, 2681, 2688, 2702, 2709, 2716, 2723, 2737, 2744, 2751, 2758, 2772, 2779, 2786, 2793, 2807, 2814, 2821, 2828, 2842, 2849, 2856, 2863, 2877, 2884, 2891, 2898, 2912, 2919, 2926, 2933, 2947, 2954, 2961, 2968, 2982, 2989, 2996, 3003, 3017, 3024, 3031, 3038, 3052, 3059, 3066, 3073, 3087, 3094, 3101, 3108, 3122, 3129, 3136, 3143, 3157, 3164, 3171, 3178, 3192, 3199]\n"
     ]
    }
   ],
   "source": [
    "def divisible(a,b):\n",
    "    if (a%b ==0):\n",
    "        return True\n",
    "    else:\n",
    "        return False\n",
    "def noMultiple(a,b):\n",
    "    if((a//b)*b == a ):\n",
    "        return False\n",
    "    else:\n",
    "        return True\n",
    "mylist=[]\n",
    "for i in range(2000,3201):\n",
    "    \n",
    "    if (divisible(i,7) and noMultiple(i,5)):\n",
    "        mylist.append(i)\n",
    "print(mylist) "
   ]
  },
  {
   "cell_type": "markdown",
   "id": "803a3d2b",
   "metadata": {},
   "source": [
    "## exo2\n",
    "* calculer la factorielle d'un nombre donné*"
   ]
  },
  {
   "cell_type": "code",
   "execution_count": 2,
   "id": "4f71e086",
   "metadata": {},
   "outputs": [
    {
     "name": "stdout",
     "output_type": "stream",
     "text": [
      "Entrez un nombre: 3\n",
      "6\n"
     ]
    }
   ],
   "source": [
    "def fact(a):\n",
    "    f=1\n",
    "    if a==0:\n",
    "        return f\n",
    "    while a>1:\n",
    "        f = f * a\n",
    "        a = a-1\n",
    "    return f\n",
    "try:\n",
    "    nbr = int(input(\"Entrez un nombre: \"))\n",
    "    print(fact(nbr))\n",
    "except:\n",
    "    print('la valeur saisie n\\'est pas un entier')"
   ]
  },
  {
   "cell_type": "markdown",
   "id": "c54daf48",
   "metadata": {},
   "source": [
    "## exo3"
   ]
  },
  {
   "cell_type": "code",
   "execution_count": 3,
   "id": "1bc129f9",
   "metadata": {},
   "outputs": [
    {
     "name": "stdout",
     "output_type": "stream",
     "text": [
      "Entrez un nombre: 8\n",
      "{1: 1, 2: 4, 3: 9, 4: 16, 5: 25, 6: 36, 7: 49, 8: 64}\n"
     ]
    }
   ],
   "source": [
    "def fact(nbr):\n",
    "    dic={}\n",
    "    for i in range(1,nbr+1):\n",
    "        dic[i]=i*i\n",
    "    return dic\n",
    "try:\n",
    "    nbr = int(input(\"Entrez un nombre: \"))\n",
    "    print(fact(nbr))\n",
    "except:\n",
    "    print('la valeur saisie n\\'est pas un entier')"
   ]
  },
  {
   "cell_type": "markdown",
   "id": "5eb83c85",
   "metadata": {},
   "source": [
    "## exo4\n",
    "* suppression d'un element d'un chaine*"
   ]
  },
  {
   "cell_type": "code",
   "execution_count": 4,
   "id": "767fb3f2",
   "metadata": {},
   "outputs": [
    {
     "name": "stdout",
     "output_type": "stream",
     "text": [
      "Entrez une chaine: hello\n",
      "Entrez un nombre entier: 1\n",
      "hllo\n"
     ]
    }
   ],
   "source": [
    "def missing_char(chaine,n):\n",
    "   new_chaine = chaine[0:n] + chaine[n+1:len(chaine)]\n",
    "   return new_chaine\n",
    "try:\n",
    "    chaine = input(\"Entrez une chaine: \")\n",
    "    n = int(input(\"Entrez un nombre entier: \"))\n",
    "    print(missing_char(chaine,n))\n",
    "except ValueError:\n",
    "    print('la valeur saisie n\\'est pas un entier')\n",
    "except IndexError:\n",
    "    print('le nombre saisie est supérieure au taille de la chaine')\n"
   ]
  },
  {
   "cell_type": "markdown",
   "id": "99cd18bb",
   "metadata": {},
   "source": [
    "## exo5\n",
    "* convertir un tableau NumPy en une structure de liste Python *"
   ]
  },
  {
   "cell_type": "code",
   "execution_count": 6,
   "id": "64db6cbb",
   "metadata": {},
   "outputs": [
    {
     "name": "stdout",
     "output_type": "stream",
     "text": [
      "[[1, 2, 3], [4, 5, 6], [7, 8, 9]]\n"
     ]
    }
   ],
   "source": [
    "import numpy as np\n",
    "tab = np.array([[1,2,3],[4,5,6],[7,8,9]])\n",
    "myList =tab.tolist()\n",
    "print(myList)"
   ]
  },
  {
   "cell_type": "markdown",
   "id": "b95a03cf",
   "metadata": {},
   "source": [
    "## exo6\n",
    "* matrice de covariance de deux tableaux donnés *"
   ]
  },
  {
   "cell_type": "code",
   "execution_count": 7,
   "id": "15ac7674",
   "metadata": {},
   "outputs": [
    {
     "name": "stdout",
     "output_type": "stream",
     "text": [
      "[[ 1. -1.]\n",
      " [-1.  1.]]\n"
     ]
    }
   ],
   "source": [
    "tab1=[0,1,2]\n",
    "tab2=[2,1,0]\n",
    "tab = np.array([tab1,tab2])\n",
    "cov = np.cov(tab)\n",
    "print(cov)"
   ]
  },
  {
   "cell_type": "markdown",
   "id": "6b885ee2",
   "metadata": {},
   "source": [
    "## exo7\n",
    "* afficher les valeur de Q selon la formule donnée : Q = racine carrée de [(2 * C * D)/H] *"
   ]
  },
  {
   "cell_type": "code",
   "execution_count": 8,
   "id": "c73ecbc2",
   "metadata": {},
   "outputs": [
    {
     "name": "stdout",
     "output_type": "stream",
     "text": [
      "entrer une liste de nombre séparées par des virgules : 100,150,180\n",
      "la liste est non valide\n",
      "\n"
     ]
    }
   ],
   "source": [
    "from math import s\n",
    "myList = input(\"entrer une liste de nombre séparées par des virgules : \")\n",
    "C=50\n",
    "H=30\n",
    "d = myList.split(',')\n",
    "final_list=[]\n",
    "try:\n",
    "    for i in d:\n",
    "        final_list.append(round(sqrt(2*C*float(i)/H)))\n",
    "except:\n",
    "    print(\"la liste est non valide\")\n",
    "print(*final_list, sep = ',')"
   ]
  },
  {
   "cell_type": "code",
   "execution_count": null,
   "id": "97772a58",
   "metadata": {},
   "outputs": [],
   "source": []
  }
 ],
 "metadata": {
  "kernelspec": {
   "display_name": "Python 3",
   "language": "python",
   "name": "python3"
  },
  "language_info": {
   "codemirror_mode": {
    "name": "ipython",
    "version": 3
   },
   "file_extension": ".py",
   "mimetype": "text/x-python",
   "name": "python",
   "nbconvert_exporter": "python",
   "pygments_lexer": "ipython3",
   "version": "3.8.8"
  }
 },
 "nbformat": 4,
 "nbformat_minor": 5
}
